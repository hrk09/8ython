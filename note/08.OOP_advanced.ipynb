{
 "cells": [
  {
   "cell_type": "markdown",
   "metadata": {},
   "source": [
    "# OOP advanced"
   ]
  },
  {
   "cell_type": "markdown",
   "metadata": {},
   "source": [
    "## 클래스 변수와 인스턴스 변수\n",
    "\n",
    "### 클래스 변수\n",
    "* 클래스의 속성입니다.\n",
    "* 클래스 선언 블록 최상단에 위치합니다.\n",
    "* 모든 인스턴스가 공유합니다.\n",
    "* `Class.class_variable` 과 같이 접근/할당합니다.\n",
    "\n",
    "```python\n",
    "class TestClass:\n",
    "    \n",
    "    class_variable = '클래스변수'\n",
    "    ...\n",
    "\n",
    "TestClass.class_variable  # '클래스변수'\n",
    "TestClass.class_variable = 'class variable'\n",
    "TestClass.class_variable  # 'class variable'\n",
    "\n",
    "tc = TestClass()\n",
    "tc.class_variable  \n",
    "# 인스턴스 => 클래스 => 전역 순서로 이름공간을 탐색하기 때문에, 접근하게 됩니다.\n",
    "```"
   ]
  },
  {
   "cell_type": "markdown",
   "metadata": {},
   "source": [
    "### 인스턴스 변수\n",
    "* 인스턴스의 속성입니다.\n",
    "* **각 인스턴스들의 고유한 변수입니다.**\n",
    "* 클랴스 내 존재하는 모든 메소드에 적용되는 변수\n",
    "* 메서드 정의에서 `self.instance_variable` 로 접근/할당합니다.\n",
    "* 인스턴스가 생성된 이후 `instance.instance_variable` 로 접근/할당합니다.\n",
    "\n",
    "\n",
    "```python\n",
    "class TestClass:\n",
    "    \n",
    "    def __init__(self, arg1, arg2):\n",
    "        self.instance_var1 = arg1    # 인스턴스 변수\n",
    "        self.instance_var2 = arg2\n",
    "\n",
    "    def status(self):\n",
    "        return self.instance_var1, self.instance_var2   \n",
    "\n",
    "    \n",
    "test_instance = TestClass(1, 2)  \n",
    "test_instance.instance_var1  # 1\n",
    "test_instance.instance_var2  # 2\n",
    "test_instance.status()  # (1, 2)\n",
    "```"
   ]
  },
  {
   "cell_type": "code",
   "execution_count": null,
   "metadata": {},
   "outputs": [],
   "source": [
    "# 확인해봅시다.\n",
    "class Person:\n",
    "    hair = True\n",
    "    \n",
    "    def __init__(self, name, gender):\n",
    "        self.name = name\n",
    "        self.gender = gender\n",
    "        \n",
    "    def status(self):\n",
    "        print(self.name)\n",
    "        print(self.gender)\n",
    "    "
   ]
  },
  {
   "cell_type": "code",
   "execution_count": null,
   "metadata": {},
   "outputs": [],
   "source": [
    "# 클래스 변수에 접근/재할당\n",
    "print(Person.hair)"
   ]
  },
  {
   "cell_type": "code",
   "execution_count": null,
   "metadata": {},
   "outputs": [],
   "source": [
    "Person.hair = False\n",
    "print(Person.hair)"
   ]
  },
  {
   "cell_type": "code",
   "execution_count": null,
   "metadata": {},
   "outputs": [],
   "source": [
    "# 인스턴스를 생성하고 확인해보자\n",
    "jason = Person('Jason', 'man')\n",
    "print(jason.name, jason.gender)"
   ]
  },
  {
   "cell_type": "code",
   "execution_count": null,
   "metadata": {},
   "outputs": [],
   "source": [
    "# 인스턴스 변수 재할당\n",
    "jason.name = 'json'\n",
    "jason.gender = 'real man'\n",
    "print(jason.name, jason.gender)  # 재할당을 해도 바뀐 값으로 잘 들어가 있다."
   ]
  },
  {
   "cell_type": "markdown",
   "metadata": {},
   "source": [
    "## 인스턴스 메서드 / 클래스 메서드 / 스태틱(정적) 메서드 \n",
    "- 클래스에서 정의할 수 있는 메서드 3가지; 인스턴스 메서드, 클래스 메서드, 스태틱 메서드\n",
    "- 인스턴스는 3가지 메서드에 접근가능하나, 클래스 메서드, 스태틱 메서드에서 쓰지 않는 것이 좋음\n",
    "### 인스턴스 메서드(많이 사용)\n",
    "* 인스턴스가 사용할 메서드 입니다.\n",
    "* 정의 위에 어떠한 데코레이터도 없으면, 자동으로 인스턴스 메서드가 됩니다.\n",
    "* **첫 번째 인자로 `self` 를 받도록 정의합니다. 이 때, 자동으로 인스턴스 객체가 `self` 가 됩니다.**\n",
    "* 우리가 그동안 했던 메서드들은 다 인스턴스 메서드였다.\n",
    "\n",
    "```python\n",
    "class MyClass:\n",
    "    def instance_method_name(self, arg1, arg2, ...):\n",
    "        ...\n",
    "\n",
    "my_instance = MyClass()\n",
    "my_instance.instance_method_name(.., ..)  # 자동으로 첫 번째 인자로 인스턴스(my_instance)가 들어갑니다.(self 다음부터 arg 값이 들어간다.)\n",
    "```"
   ]
  },
  {
   "cell_type": "markdown",
   "metadata": {},
   "source": [
    "### 클래스 메서드\n",
    "* 클래스가 사용할 메서드 입니다.\n",
    "* 정의 위에 `@classmethod` 데코레이터를 사용합니다.\n",
    "* Flask에서 @app.route 했던 것과 비슷한 경우\n",
    "* **첫 번째 인자로 클래스(`cls`) 를 받도록 정의합니다. 이 때, 자동으로 클래스 객체가 `cls` 가 됩니다.**\n",
    "\n",
    "```python\n",
    "class MyClass:\n",
    "    @classmethod\n",
    "    def class_method_name(cls, arg1, arg2, ...):\n",
    "        ...\n",
    "\n",
    "MyClass.class_method_name(.., ..)  # 자동으로 첫 번째 인자로 클래스(MyClass)가 들어갑니다.(인스턴스 메서드와 같게, self->cls로 바뀐거고 arg 값부터 들어감)\n",
    "```"
   ]
  },
  {
   "cell_type": "markdown",
   "metadata": {},
   "source": [
    "### 스태틱(정적) 메서드\n",
    "* 클래스가 사용할 메서드 입니다.\n",
    "* 정의 위에 `@staticmethod` 데코레이터를 사용합니다.\n",
    "* **묵시적인 첫 번째 인자를 받지 않습니다.** 즉, 인자 정의는 자유롭게 합니다. \n",
    "* **어떠한 인자도 자동으로 넘어가지 않습니다.**(클래스가 자동으로 넘어간다든지..)\n",
    "\n",
    "```python\n",
    "class MyClass:\n",
    "    @staticmethod\n",
    "    def static_method_name(arg1, arg2, ...):\n",
    "        ...\n",
    "\n",
    "MyClass.static_method_name(.., ..)  # 아무일도 자동으로 일어나지 않습니다.\n",
    "```"
   ]
  },
  {
   "cell_type": "code",
   "execution_count": null,
   "metadata": {},
   "outputs": [],
   "source": [
    "# 모든 메서드를 정의해 봅시다."
   ]
  },
  {
   "cell_type": "code",
   "execution_count": null,
   "metadata": {},
   "outputs": [],
   "source": [
    "class MyClass:  # capital camel case\n",
    "    def instance_method(self):\n",
    "        return self\n",
    "    \n",
    "    @classmethod\n",
    "    def class_method(cls):\n",
    "        return cls\n",
    "    \n",
    "    @staticmethod\n",
    "    def static_method(arg):\n",
    "        return arg\n",
    "\n",
    "my_instance = MyClass()"
   ]
  },
  {
   "cell_type": "code",
   "execution_count": null,
   "metadata": {},
   "outputs": [],
   "source": [
    "# 인스턴스 입장에서 확인해 봅시다.\n",
    "# 인스턴스는 인스턴스 메서드에 접근가능합니다.\n",
    "\n",
    "print(id(my_instance), id(my_instance.instance_method()))\n",
    "my_instance == my_instance.instance_method()"
   ]
  },
  {
   "cell_type": "code",
   "execution_count": null,
   "metadata": {},
   "outputs": [],
   "source": [
    "# 인스턴스는 클래스 메서드에 접근 가능합니다.\n",
    "print(id(MyClass), id(MyClass.class_method()))\n",
    "MyClass == my_instance.class_method()"
   ]
  },
  {
   "cell_type": "code",
   "execution_count": null,
   "metadata": {},
   "outputs": [],
   "source": [
    "# 인스턴스는 스태틱 메서드에 접근 가능합니다.\n",
    "my_instance.static_method(111111)"
   ]
  },
  {
   "cell_type": "markdown",
   "metadata": {},
   "source": [
    "### 정리 1 - 인스턴스와 메서드\n",
    "- 인스턴스는, 3가지 메서드 모두에 접근할 수 있습니다.\n",
    "- **하지만 인스턴스에서 클래스메서드와 스태틱메서드는 호출하지 않아야 합니다.** \n",
    "  (가능하다. != 사용한다.)\n",
    "- 인스턴스가 할 행동은 모두 인스턴스 메서드로 한정 지어서 설계합니다.\n",
    "---"
   ]
  },
  {
   "cell_type": "code",
   "execution_count": null,
   "metadata": {},
   "outputs": [],
   "source": [
    "# 클래스 입장에서 확인해 봅시다."
   ]
  },
  {
   "cell_type": "code",
   "execution_count": null,
   "metadata": {},
   "outputs": [],
   "source": [
    "print(id(MyClass), id(MyClass.class_method()))\n",
    "MyClass == MyClass.class_method()"
   ]
  },
  {
   "cell_type": "code",
   "execution_count": null,
   "metadata": {},
   "outputs": [],
   "source": [
    "MyClass.static_method('124')"
   ]
  },
  {
   "cell_type": "code",
   "execution_count": null,
   "metadata": {},
   "outputs": [],
   "source": [
    "MyClass.instance_method()  # 오류발생"
   ]
  },
  {
   "cell_type": "code",
   "execution_count": null,
   "metadata": {},
   "outputs": [],
   "source": [
    "MyClass.instance_method(my_instance) == my_instance  # 이렇게 하면 오류발생 나지 않음"
   ]
  },
  {
   "cell_type": "markdown",
   "metadata": {},
   "source": [
    "### 정리 2 - 클래스와 메서드\n",
    "- 클래스는, 3가지 메서드 모두에 접근할 수 있습니다.\n",
    "- 하지만 클래스에서 인스턴스메서드는 호출하지 않습니다. (가능하다. != 사용한다.)\n",
    "- 클래스가 할 행동은 다음 원칙에 따라 설계합니다.\n",
    "    - 클래스 자체(`cls`)와 그 속성에 접근할 필요가 있다면 클래스메서드로 정의합니다.\n",
    "    - 클래스와 클래스 속성에 접근할 필요가 없다면 스태틱메서드로 정의합니다.  \n",
    "---"
   ]
  },
  {
   "cell_type": "markdown",
   "metadata": {},
   "source": [
    "### 인스턴스메서드 / 클래스메서드 / 스태틱메서드 자세히 살펴보기"
   ]
  },
  {
   "cell_type": "code",
   "execution_count": null,
   "metadata": {},
   "outputs": [],
   "source": [
    "# Puppy class를 만들어보겠습니다.\n",
    "# 그리고 bark() 메서드를 통해 짖을 수 있습니다. \n",
    "\n",
    "class Puppy:\n",
    "    def __init__(self, name, breed):\n",
    "        self.name = name\n",
    "        self.breed = breed\n",
    "        \n",
    "    def bark(self):\n",
    "        return 'RRRRRR'"
   ]
  },
  {
   "cell_type": "code",
   "execution_count": null,
   "metadata": {},
   "outputs": [],
   "source": [
    "# 각각 이름과 종이 다른 인스턴스 3개 만들기"
   ]
  },
  {
   "cell_type": "code",
   "execution_count": null,
   "metadata": {},
   "outputs": [],
   "source": [
    "pp1 = Puppy('초코', '푸들')\n",
    "pp2 = Puppy('꽁이', '말티즈')\n",
    "pp3 = Puppy('전현무', '시츄')\n",
    "\n",
    "print(pp1.bark(), pp2.bark(), pp3.bark())"
   ]
  },
  {
   "cell_type": "code",
   "execution_count": null,
   "metadata": {},
   "outputs": [],
   "source": [
    "# Puppy Class 가 짖을 수 있을까?\n",
    "Puppy.bark()  # 오류발생 "
   ]
  },
  {
   "cell_type": "code",
   "execution_count": null,
   "metadata": {},
   "outputs": [],
   "source": [
    "# 그렇다면,\n",
    "Puppy.bark(pp1)  # 오류해결"
   ]
  },
  {
   "cell_type": "markdown",
   "metadata": {},
   "source": [
    "* 클래스메서드는 다음과 같이 정의됩니다.\n",
    "\n",
    "```python\n",
    "\n",
    "@classmethod\n",
    "def methodname(cls):\n",
    "    codeblock\n",
    "```"
   ]
  },
  {
   "cell_type": "code",
   "execution_count": null,
   "metadata": {},
   "outputs": [],
   "source": [
    "# Doggy 클래스를 정의하고 속성에 접근하는 클래스메서드를 생성해 보겠습니다.\n",
    "\n",
    "class Doggy:\n",
    "    number_of_dogs = 0  # class attribute\n",
    "    \n",
    "    def __init__(self, name, breed):\n",
    "        self.name = name\n",
    "        self.breed = breed\n",
    "        Doggy.number_of_dogs += 1\n",
    "        \n",
    "    def __del__(self):\n",
    "        Doggy.number_of_dogs -= 1\n",
    "    \n",
    "    def bark(self):\n",
    "        return 'RRRRRR'\n",
    "    \n",
    "    @classmethod\n",
    "    def get_status(cls):\n",
    "        return f'총 {cls.number_of_dogs} 마리의 강아지가 있습니다:)'\n",
    "    "
   ]
  },
  {
   "cell_type": "code",
   "execution_count": null,
   "metadata": {},
   "outputs": [],
   "source": [
    "dg1 = Puppy('초코', '푸들')\n",
    "dg2 = Puppy('꽁이', '말티즈')\n",
    "dg3 = Puppy('전현무', '시츄')"
   ]
  },
  {
   "cell_type": "code",
   "execution_count": null,
   "metadata": {},
   "outputs": [],
   "source": [
    "print(dg1.name, dg2.name, dg3.name)"
   ]
  },
  {
   "cell_type": "code",
   "execution_count": null,
   "metadata": {},
   "outputs": [],
   "source": [
    "Doggy.get_status()"
   ]
  },
  {
   "cell_type": "markdown",
   "metadata": {},
   "source": [
    "* 스태틱메서드는 다음과 같이 정의됩니다.\n",
    "\n",
    "```python\n",
    "\n",
    "@staticmethod\n",
    "def methodname():\n",
    "    codeblock\n",
    "```"
   ]
  },
  {
   "cell_type": "code",
   "execution_count": null,
   "metadata": {},
   "outputs": [],
   "source": [
    "# Dog 클래스를 정의하고 어떠한 속성에도 접근하지 않는 스태틱메서드를 만들어보겠습니다."
   ]
  },
  {
   "cell_type": "code",
   "execution_count": null,
   "metadata": {},
   "outputs": [],
   "source": [
    "class Dog:\n",
    "    number_of_dogs = 0  # class attribute\n",
    "    \n",
    "    def __init__(self, name, breed):\n",
    "        self.name = name\n",
    "        self.breed = breed\n",
    "        Dog.number_of_dogs += 1\n",
    "        \n",
    "    def __del__(self):\n",
    "        Dog.number_of_dogs -= 1\n",
    "    \n",
    "    def bark(self):\n",
    "        return 'RRRRRR'\n",
    "    \n",
    "    # 클래스 메서드는 number_of_dogs라는 것을 만들었고, cls에 접근\n",
    "    @classmethod\n",
    "    def get_status(cls):\n",
    "        return f'총 {cls.number_of_dogs} 마리의 강아지가 있습니다:)'\n",
    "    \n",
    "    @staticmethod\n",
    "    def info():\n",
    "        return '이것은 개입니다.'"
   ]
  },
  {
   "cell_type": "code",
   "execution_count": null,
   "metadata": {},
   "outputs": [],
   "source": [
    "d = Dog('초코', '푸들')\n",
    "d.bark()"
   ]
  },
  {
   "cell_type": "code",
   "execution_count": null,
   "metadata": {},
   "outputs": [],
   "source": [
    "print(d.info(), Dog.info())  # 어떠한 속성에도 접근하지 않는 것이 static 메서드"
   ]
  },
  {
   "cell_type": "markdown",
   "metadata": {},
   "source": [
    "## 실습 - 스태틱(정적) 메서드\n",
    "\n",
    "> 계산기 class인 `Calculator`를 만들어봅시다.\n",
    "\n",
    "* 다음과 같이 정적 메서드를 구성한다. \n",
    "* 모든 정적 메서드는, 두 수를 받아서 각각의 연산을 한 결과를 리턴한다.\n",
    "* `a` 연산자 `b` 의 순서로 연산한다. (`a - b`, `a / b`)\n",
    "    1. `add(a, b)` : 덧셈\n",
    "    2. `sub(a, b)` : 뺄셈 \n",
    "    3. `mul(a, b)` : 곱셈\n",
    "    4. `div(a, b)` : 나눗셈"
   ]
  },
  {
   "cell_type": "code",
   "execution_count": null,
   "metadata": {},
   "outputs": [],
   "source": [
    "# 아래에 코드를 작성해주세요.\n",
    "\n",
    "class Calculator:\n",
    "    \n",
    "    @ staticmethod\n",
    "    def add(a, b):\n",
    "        return a + b\n",
    "    \n",
    "    def sub(a, b):\n",
    "        return a - b\n",
    "    \n",
    "    def mul(a, b):\n",
    "        return a * b\n",
    "    \n",
    "    def div(a, b):\n",
    "        return a / b\n",
    "    "
   ]
  },
  {
   "cell_type": "code",
   "execution_count": null,
   "metadata": {},
   "outputs": [],
   "source": [
    "# 정적 메서드를 호출해보세요.\n",
    "Calculator.add(2, 3)"
   ]
  },
  {
   "cell_type": "markdown",
   "metadata": {},
   "source": [
    "* staticmethod, classmehod 차이 - https://wikidocs.net/21054 참고"
   ]
  },
  {
   "cell_type": "markdown",
   "metadata": {},
   "source": [
    "## 연산자 오버로딩(중복 정의)\n",
    "> operator overloading\n",
    "\n",
    "* 파이썬에 기본적으로 정의된 연산자를 직접적으로 정의하여 활용할 수 있습니다. \n",
    "\n",
    "* 몇 가지만 소개하고 활용해봅시다.\n",
    "\n",
    "```\n",
    "+  __add__   \n",
    "-  __sub__\n",
    "*  __mul__\n",
    "<  __lt__\n",
    "<= __le__\n",
    "== __eq__\n",
    "!= __ne__\n",
    ">= __ge__\n",
    ">  __gt__\n",
    "```"
   ]
  },
  {
   "cell_type": "code",
   "execution_count": null,
   "metadata": {},
   "outputs": [],
   "source": [
    "# 사람과 사람을 같은지 비교하면, 이는 나이가 같은지 비교한 결과를 반환하도록 만들어봅시다."
   ]
  },
  {
   "cell_type": "code",
   "execution_count": null,
   "metadata": {},
   "outputs": [],
   "source": [
    "class Person:\n",
    "    def __init__(self, name, age):\n",
    "        self.name = name\n",
    "        self.age = age\n",
    "        \n",
    "    def __repr__(self):\n",
    "        return f'name: {self.name}, age: {self.age}'\n",
    "    \n",
    "    def __gt__(self, other):  # > 는 __gt__\n",
    "        if self.age > other.age:\n",
    "            return True\n",
    "        else:\n",
    "            return False\n",
    "    \n",
    "    def __lt__(self, other):  # > 는 __gt__\n",
    "        if self.age < other.age:\n",
    "            return True\n",
    "        else:\n",
    "            return False\n",
    "        "
   ]
  },
  {
   "cell_type": "code",
   "execution_count": null,
   "metadata": {},
   "outputs": [],
   "source": [
    "old_man = Person('노인', 100)\n",
    "young_man = Person('청년', 40)"
   ]
  },
  {
   "cell_type": "code",
   "execution_count": null,
   "metadata": {},
   "outputs": [],
   "source": [
    "# __gt__를 실행하지 않으면,\n",
    "\n",
    "old_man > young_man  # 오류발생"
   ]
  },
  {
   "cell_type": "code",
   "execution_count": null,
   "metadata": {},
   "outputs": [],
   "source": [
    "# __gt__를 실행하면 \n",
    "old_man < young_man  # 오류해결가능"
   ]
  },
  {
   "cell_type": "markdown",
   "metadata": {},
   "source": [
    "# 상속 \n",
    "\n",
    "## 기초\n",
    "\n",
    "* 클래스에서 가장 큰 특징은 '상속' 기능을 가지고 있다는 것입니다. \n",
    "\n",
    "* 부모 클래스의 모든 속성이 자식 클래스에게 상속 되므로 코드 재사용성이 높아집니다.\n",
    "\n",
    "```python\n",
    "class DerivedClassName(BaseClassName):  # derivedclass(자식클래스)/ baseclass(부모)\n",
    "    code block\n",
    "```"
   ]
  },
  {
   "cell_type": "code",
   "execution_count": null,
   "metadata": {},
   "outputs": [],
   "source": [
    "# 인사만 할 수 있는 간단한 Person 클래스를 만들어봅시다.\n",
    "\n",
    "class Person:\n",
    "    population = 0\n",
    "    \n",
    "    def __init__(self, name='사람'):\n",
    "        self.name = name\n",
    "        Person.population += 1  # 사람 한명씩 늘어나는 것\n",
    "        \n",
    "    def greeting(self):\n",
    "        print(f'반갑습니다, {self.name}입니다.')"
   ]
  },
  {
   "cell_type": "code",
   "execution_count": null,
   "metadata": {},
   "outputs": [],
   "source": [
    "person = Person()\n",
    "person.greeting()"
   ]
  },
  {
   "cell_type": "code",
   "execution_count": null,
   "metadata": {},
   "outputs": [],
   "source": [
    "# Person 클래스를 상속받아 Student 클래스를 만들어봅시다.\n",
    "\n",
    "class Student(Person):# student는 person 클래스를 상속받을 예정\n",
    "    def __init__(self, student_id, name='학생'):  # default 값은 뒤에 나와야함\n",
    "        self.student_id = student_id\n",
    "        self.name = name\n",
    "        Person.population += 1\n",
    "    "
   ]
  },
  {
   "cell_type": "code",
   "execution_count": null,
   "metadata": {},
   "outputs": [],
   "source": [
    "stu = Student(1)\n",
    "\n",
    "stu.name"
   ]
  },
  {
   "cell_type": "code",
   "execution_count": null,
   "metadata": {},
   "outputs": [],
   "source": [
    "stu.student_id"
   ]
  },
  {
   "cell_type": "code",
   "execution_count": null,
   "metadata": {},
   "outputs": [],
   "source": [
    "# 부모 클래스에 정의된 메서드를 호출할 수 있습니다.\n",
    "\n",
    "stu.greeting()\n",
    "stu.population"
   ]
  },
  {
   "cell_type": "markdown",
   "metadata": {},
   "source": [
    "## super()\n",
    "\n",
    "* 자식 클래스에 메서드를 추가로 구현할 수 있습니다.\n",
    "\n",
    "* 부모 클래스의 내용을 사용하고자 할 때(특정 메서드를 사용하고 싶을때), `super()`를 사용할 수 있습니다.\n",
    "\n",
    "```python\n",
    "class BabyClass(ParentClass):\n",
    "    def method(self, arg):\n",
    "        super().method(arg) \n",
    "```"
   ]
  },
  {
   "cell_type": "code",
   "execution_count": null,
   "metadata": {},
   "outputs": [],
   "source": [
    "# 예시를 확인해 봅시다.\n",
    "class Person:\n",
    "    def __init__(self, name, age, number, email):\n",
    "        self.name = name\n",
    "        self.age = age\n",
    "        self.number = number\n",
    "        self.email = email\n",
    "        \n",
    "    def greeting(self):\n",
    "        print(f'반갑습니다 {self.name}입니다')\n",
    "        \n",
    "class Student(Person):  # Person class 메서드를 다 가져오고 싶을 때,\n",
    "    # super이 없다면, def __init__ 작업을 다시 해줘야 함\n",
    "    # 원래대로라면,\n",
    "    def __init__(self, name, age, number, email, student_id):\n",
    "        self.name = name\n",
    "        self.age = age\n",
    "        self.number = number\n",
    "        self.email = email\n",
    "        self.student_id = student_id\n",
    "     \n",
    "    def greeting(self):\n",
    "        print(f'반갑습니다 {self.name}입니다')\n",
    "    \n",
    "p1 = Person('홍길동', 200, '01033333333', 'honggil@ddd')\n",
    "s2 = Student('학생', 20, '123', 'stud@da', '1900')"
   ]
  },
  {
   "cell_type": "code",
   "execution_count": null,
   "metadata": {},
   "outputs": [],
   "source": [
    "p1.greeting()\n",
    "s2.greeting()"
   ]
  },
  {
   "cell_type": "code",
   "execution_count": null,
   "metadata": {},
   "outputs": [],
   "source": [
    "# super 활용\n",
    "class Person:\n",
    "    def __init__(self, name, age, number, email):\n",
    "        self.name = name\n",
    "        self.age = age\n",
    "        self.number = number\n",
    "        self.email = email\n",
    "        \n",
    "    def greeting(self):\n",
    "        print(f'반갑습니다 {self.name}입니다')\n",
    "\n",
    "class Student(Person):\n",
    "    def __init__(self, name, age, number, email, student_id):\n",
    "        super().__init__(name, age, number, email)\n",
    "        self.student_id = student_id\n",
    "        \n",
    "p1 = Person('홍길동', 200, '01033333333', 'honggil@ddd')\n",
    "s2 = Student('학생', 20, '123', 'stud@da', '1900')\n",
    "\n",
    "p1.greeting()\n",
    "s2.greeting()"
   ]
  },
  {
   "cell_type": "markdown",
   "metadata": {},
   "source": [
    "* 위의 코드를 보면, 상속을 했음에도 불구하고 동일한 코드가 반복됩니다. "
   ]
  },
  {
   "cell_type": "code",
   "execution_count": null,
   "metadata": {},
   "outputs": [],
   "source": [
    "# 이를 수정해봅시다."
   ]
  },
  {
   "cell_type": "markdown",
   "metadata": {},
   "source": [
    "## 메서드 오버라이딩(재정의)\n",
    "> method overriding\n",
    "\n",
    "* 메서드를 재정의할 수도 있습니다.\n",
    "* 상속 받은 클래스에서 메서드를 덮어씁니다."
   ]
  },
  {
   "cell_type": "code",
   "execution_count": null,
   "metadata": {},
   "outputs": [],
   "source": [
    "# Person 클래스의 상속을 받아 군인처럼 인사하는 Soldier 클래스를 만들어봅시다.\n",
    "class Soldier(Person):\n",
    "    def __init__(self, name, age, number, email, army):\n",
    "        super().__init__(name, age, number, email)\n",
    "        self.army = army\n",
    "                \n",
    "    # method overriding(덮어쓰기)\n",
    "    def greeting(self):\n",
    "        super().greeting()  # 부모 class가 하는 greeting 추가\n",
    "        print(f'충성! {self.army} {self.name}!')\n",
    "        \n",
    "sol = Soldier('굳건이', 25, '010-1234', 'soldier@roka.kr', '하사')\n",
    "sol.greeting()\n"
   ]
  },
  {
   "cell_type": "markdown",
   "metadata": {},
   "source": [
    "## 상속관계에서의 이름공간\n",
    "\n",
    "* 기존에 인스턴스 -> 클래스 순으로 이름 공간을 탐색해나가는 과정에서 상속관계에 있으면 아래와 같이 확장됩니다.\n",
    "\n",
    "* 인스턴스 -> 클래스 -> 전역\n",
    "* 인스턴스 -> 자식 클래스 -> 부모 클래스 -> 전역"
   ]
  },
  {
   "cell_type": "markdown",
   "metadata": {},
   "source": [
    "## 실습 1 \n",
    "\n",
    "> 위에서 Person 클래스를 상속받는 Student 클래스를 만들어 봤습니다.\n",
    ">\n",
    ">이번에는 Person 클래스를 상속받는 Teacher 클래스를 만들어보고 Student와 Teacher 클래스에 각각 다른 행동의 메서드들을 하나씩 추가해봅시다."
   ]
  },
  {
   "cell_type": "code",
   "execution_count": null,
   "metadata": {},
   "outputs": [],
   "source": [
    "# 아래에 코드를 작성해주세요.\n",
    "\n",
    "class Person:\n",
    "    def __init__(self, name='익명', age='비공개', address='없음'):\n",
    "        self.name = name\n",
    "        self.age = age\n",
    "        self.address = address\n",
    "    \n",
    "    def greeting(self):\n",
    "        return f'하이, 난 {self.name}'"
   ]
  },
  {
   "cell_type": "code",
   "execution_count": null,
   "metadata": {},
   "outputs": [],
   "source": [
    "# teacher class\n",
    "class Teacher(Person):\n",
    "    def __init__(self, name, age, address, gender):\n",
    "        super().__init__(self, name, age, address)\n",
    "        self.gender = gender\n",
    "        \n",
    "    def explaining(self):\n",
    "        return '알겠어요?'\n",
    "    \n",
    "    def introducing(self):\n",
    "        return '{self.name} 선생님이야'\n",
    "    "
   ]
  },
  {
   "cell_type": "code",
   "execution_count": null,
   "metadata": {},
   "outputs": [],
   "source": [
    "# student class\n",
    "class Student(Person):\n",
    "    def __init__(self, name, age, address, gender, grade):\n",
    "        super().__init__(name, age, address)\n",
    "        self.grade = grade \n",
    "        \n",
    "    def dizzing(self):\n",
    "        return '졸려죽겠다 ;ㅅ;'\n",
    "    \n",
    "# def studty(self, subject, hour):\n",
    "#    return f'{subject}를 {hour}만큼 가르친다'\n",
    "\n",
    "teacher = Teacher('선생', '30', '서울', '여')\n",
    "student = Student('기용이', '28', '서울', '남', 'a')\n",
    "\n",
    "student.dizzing"
   ]
  },
  {
   "cell_type": "markdown",
   "metadata": {},
   "source": [
    "## 실습 2\n",
    "\n",
    "> 사실 사람은 포유류입니다. \n",
    ">\n",
    "> Animal Class를 만들고, Person클래스가 상속받도록 구성해봅시다.\n",
    ">\n",
    "> 변수나, 메서드는 자유롭게 만들어봅시다."
   ]
  },
  {
   "cell_type": "code",
   "execution_count": null,
   "metadata": {},
   "outputs": [],
   "source": [
    "# 아래에 코드를 작성해주세요.\n",
    "class Animal:\n",
    "    def __init__(self, life=True):\n",
    "        self.life = life\n",
    "        \n",
    "    def eat(self):\n",
    "        if self.life:\n",
    "            print('쩝쩝')\n",
    "\n",
    "class Person(Animal):\n",
    "    def __init__(self, name, life=True):\n",
    "        super().__init__(life)\n",
    "        self.name = name\n",
    "    \n",
    "    def eat(self):\n",
    "        if self.life:\n",
    "            print('냠냠')\n",
    "\n",
    "animal = Animal(True)\n",
    "animal.eat()\n",
    "animal.life = False\n",
    "animal.eat()\n",
    "\n",
    "person = Person('jason', True)\n",
    "person.eat()\n",
    "        "
   ]
  },
  {
   "cell_type": "markdown",
   "metadata": {},
   "source": [
    "## 다중 상속\n",
    "두개 이상의 클래스를 상속받는 경우, 다중 상속이 됩니다."
   ]
  },
  {
   "cell_type": "code",
   "execution_count": null,
   "metadata": {},
   "outputs": [],
   "source": [
    "# Person 클래스를 정의합니다.\n",
    "\n",
    "class Person:\n",
    "    def __init__(self, name):\n",
    "        self.name = name\n",
    "    \n",
    "    def breath(self):\n",
    "        return '날숨'\n",
    "    \n",
    "    def greeting(self):\n",
    "        return f'hi, {self.name}'"
   ]
  },
  {
   "cell_type": "code",
   "execution_count": null,
   "metadata": {},
   "outputs": [],
   "source": [
    "# Mom 클래스를 정의합니다.\n",
    "\n",
    "class Mom(Person):  # person 상속\n",
    "    gene = 'XX'\n",
    "    \n",
    "    def swim(self):\n",
    "        return '첨벙첨벙'\n",
    "    "
   ]
  },
  {
   "cell_type": "code",
   "execution_count": null,
   "metadata": {},
   "outputs": [],
   "source": [
    "# Dad 클래스를 정의합니다.\n",
    "\n",
    "class Dad(Person):\n",
    "    gene = 'XY'\n",
    "    \n",
    "    def walk(self):\n",
    "        return '성큼성큼'"
   ]
  },
  {
   "cell_type": "code",
   "execution_count": null,
   "metadata": {},
   "outputs": [],
   "source": [
    "# FirstChild 클래스를 정의합니다.\n",
    "\n",
    "class FirstChild(Dad, Mom):  # 상속의 순서가 중요(왼쪽에서 오른쪽)\n",
    "    # gene 값은 Dad의 gene을 가져옴\n",
    "    \n",
    "    def swim(self):  # Mom의 swim 메서드를 overriding하는 것\n",
    "        return '찹찹'\n",
    "    \n",
    "    def cry(self):  # FirstChild 만이 가진 instance 메서드\n",
    "        return '응애'\n",
    "    "
   ]
  },
  {
   "cell_type": "code",
   "execution_count": null,
   "metadata": {},
   "outputs": [],
   "source": [
    "# FirstChild 만이 가지는 메서드 실행\n",
    "\n",
    "baby = FirstChild('수련')\n",
    "baby.cry()  "
   ]
  },
  {
   "cell_type": "code",
   "execution_count": null,
   "metadata": {},
   "outputs": [],
   "source": [
    "baby.swim() # override 된 FirstChild의 swim 호출"
   ]
  },
  {
   "cell_type": "code",
   "execution_count": null,
   "metadata": {},
   "outputs": [],
   "source": [
    "baby.walk()  # dad의 walk 호출"
   ]
  },
  {
   "cell_type": "code",
   "execution_count": null,
   "metadata": {},
   "outputs": [],
   "source": [
    "baby.gene  # dad로부터 옴 우선순위가 오른쪽"
   ]
  },
  {
   "cell_type": "markdown",
   "metadata": {},
   "source": [
    "## 포켓몬 구현하기\n",
    "\n",
    "> 포켓몬을 상속하는 이상해씨, 파이리, 꼬부기를 구현해 봅시다. 게임을 만든다면 아래와 같이 먼저 기획을 하고 코드로 구현하게 됩니다.\n",
    "우선 아래와 같이 구현해 보고, 추가로 본인이 원하는 대로 구현 및 수정해 봅시다.\n",
    "\n",
    "모든 포켓몬은 다음과 같은 속성을 갖습니다.\n",
    "* `name`: 이름\n",
    "* `level`: 레벨\n",
    "    * 레벨은 시작할 때 모두 5 입니다.\n",
    "* `hp`: 체력\n",
    "    * 체력은 `level` * 20 입니다.\n",
    "* `exp`: 경험치\n",
    "    * 상대방을 쓰러뜨리면 상대방 `level` * 15 를 획득합니다.\n",
    "    * 경험치는 `level` * 100 이 되면, 레벨이 하나 올라가고 0부터 추가 됩니다. \n",
    "\n",
    "이후 이상해씨, 파이리, 꼬부기는 포켓몬을 상속하여 자유롭게 구현해 봅시다.\n",
    "\n",
    "추가적으로 \n",
    "\n",
    "* 포켓몬 => 물포켓몬 => 꼬부기 \n",
    "* 포켓몬 => 물포켓몬 => 잉어킹\n",
    "* 포켓몬 => 비행포켓몬, 불포켓몬 => 파이어\n",
    "\n",
    "와 같이 다양한 추가 상속관계도 구현해 봅시다."
   ]
  },
  {
   "cell_type": "code",
   "execution_count": null,
   "metadata": {},
   "outputs": [],
   "source": [
    "# Pokemon class 만들기\n",
    "\n",
    "# Pokemon 타입 지정\n",
    "\n",
    "# pokemon class\n",
    "class Pokemon:\n",
    "    def __init__(self, name, hp, level=5, exp=0):\n",
    "        self.level = 5\n",
    "        self.hp = self.level*20\n",
    "        self.exp = 0\n",
    "        self.name = name\n",
    "\n",
    "    def bark(self):\n",
    "        return f'{self.name}! {self.name}!'\n",
    "\n",
    "    def __str__(self):\n",
    "        return f'Pokemon:{self.name}, level:{self.level}'\n",
    "    \n",
    "    def fight(self, opponent):\n",
    "        if opponent.hp <= 0:\n",
    "            return f'{opponent.name}이(가) 쓰러졌습니다'\n",
    "            self.exp += opponent.level * 15\n",
    "            if self.exp >= self.level * 100:\n",
    "                self.exp -= self.level * 100  \n",
    "                self.exp == 0\n",
    "                self.hp = self.level * 20\n",
    "                return f'{self.name}의 레벨이 {self.level}이 됐습니다!'\n",
    "\n",
    "pokemon1 = Pokemon('Squirtle','','','')\n",
    "\n",
    "# type class\n",
    "class Type(Pokemon):\n",
    "    def __init__(self, name, level, type):\n",
    "        super().__init__(name, level)\n",
    "        self.type = type\n",
    "\n",
    "# examples\n",
    "class Squirtle(Pokemon):\n",
    "    def __init__(self, name, hp, level, exp, skill):\n",
    "        super().__init__(name, hp, level, exp)\n",
    "        self.skill = skill\n",
    "    \n",
    "    def evolve(self):\n",
    "        self.level += 1\n",
    "        if self.level >= 10:\n",
    "            return f'{self.name}은 Wartortle로 진화했습니다!!' \n",
    "    \n",
    "    def Water_Gun(self, opponent):\n",
    "        cnt = 5\n",
    "        damage = 10\n",
    "        opponent.hp -= damage\n",
    "        cnt -= 1\n",
    "        print(f'{opponent.name}에게 {damage}의 데미지를 입혔습니다.')\n",
    "        if opponent.hp <=0:\n",
    "            print(f'{opponent.name}이 쓰러졌습니다')\n",
    "        if cnt == 0:\n",
    "           print(f'{self.skill}을 다 썼습니다.')\n",
    "\n",
    "    def Water_fall(self, opponent):\n",
    "        cnt = 5\n",
    "        damage = 15\n",
    "        opponent.hp -= damage\n",
    "        cnt -= 1\n",
    "        if opponent.hp <=0:\n",
    "            print(f'{opponent.name}이 쓰러졌습니다')\n",
    "        if cnt == 0:\n",
    "           print(f'{self.skill}을 다 썼습니다.')\n",
    "\n",
    "class Magikarp(Pokemon):\n",
    "    def __init__(self, name, hp, level, exp, skill):\n",
    "        super().__init__(name, hp, level, exp)\n",
    "        self.skill = skill"
   ]
  },
  {
   "cell_type": "code",
   "execution_count": null,
   "metadata": {},
   "outputs": [],
   "source": [
    "def greeting(me='Hailey', *people):  # 가변인자 처리하면 된다.  \n",
    "    print(f'{me}가 인사한다! {people}')\n",
    "    \n",
    "greeting('Hailey', 'alice', 'pika')"
   ]
  }
 ],
 "metadata": {
  "kernelspec": {
   "display_name": "Python 3",
   "language": "python",
   "name": "python3"
  },
  "language_info": {
   "codemirror_mode": {
    "name": "ipython",
    "version": 3
   },
   "file_extension": ".py",
   "mimetype": "text/x-python",
   "name": "python",
   "nbconvert_exporter": "python",
   "pygments_lexer": "ipython3",
   "version": "3.7.4"
  },
  "latex_envs": {
   "LaTeX_envs_menu_present": true,
   "autoclose": false,
   "autocomplete": true,
   "bibliofile": "biblio.bib",
   "cite_by": "apalike",
   "current_citInitial": 1,
   "eqLabelWithNumbers": true,
   "eqNumInitial": 1,
   "hotkeys": {
    "equation": "Ctrl-E",
    "itemize": "Ctrl-I"
   },
   "labels_anchors": false,
   "latex_user_defs": false,
   "report_style_numbering": false,
   "user_envs_cfg": false
  },
  "toc": {
   "base_numbering": 1,
   "nav_menu": {},
   "number_sections": true,
   "sideBar": true,
   "skip_h1_title": false,
   "title_cell": "Table of Contents",
   "title_sidebar": "Contents",
   "toc_cell": false,
   "toc_position": {
    "height": "calc(100% - 180px)",
    "left": "10px",
    "top": "150px",
    "width": "165px"
   },
   "toc_section_display": true,
   "toc_window_display": false
  }
 },
 "nbformat": 4,
 "nbformat_minor": 2
}
